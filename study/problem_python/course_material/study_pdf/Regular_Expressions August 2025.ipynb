{
  "nbformat": 4,
  "nbformat_minor": 0,
  "metadata": {
    "colab": {
      "provenance": []
    },
    "kernelspec": {
      "name": "python3",
      "display_name": "Python 3"
    },
    "language_info": {
      "name": "python"
    }
  },
  "cells": [
    {
      "cell_type": "code",
      "execution_count": 1,
      "metadata": {
        "id": "icNGyD4NjgjB"
      },
      "outputs": [],
      "source": [
        "import re"
      ]
    },
    {
      "cell_type": "code",
      "source": [
        "\n",
        "res=re.search(\"Python\",\"Python is my favourite language\")\n",
        "print(res)"
      ],
      "metadata": {
        "colab": {
          "base_uri": "https://localhost:8080/"
        },
        "id": "i_ntsoXQfOhd",
        "outputId": "ee762a35-2ece-4908-899f-4babf87d0c54"
      },
      "execution_count": 2,
      "outputs": [
        {
          "output_type": "stream",
          "name": "stdout",
          "text": [
            "<re.Match object; span=(0, 6), match='Python'>\n"
          ]
        }
      ]
    },
    {
      "cell_type": "code",
      "source": [
        "str=\"Example for Meta Characters in Regular Expression\"\n",
        "res=re.findall(\"a\",str)\n",
        "print(res)"
      ],
      "metadata": {
        "colab": {
          "base_uri": "https://localhost:8080/"
        },
        "id": "5b80PLwmRLUT",
        "outputId": "fafe6cc7-20d3-4c76-e219-14c987e50b5b"
      },
      "execution_count": 3,
      "outputs": [
        {
          "output_type": "stream",
          "name": "stdout",
          "text": [
            "['a', 'a', 'a', 'a', 'a']\n"
          ]
        }
      ]
    },
    {
      "cell_type": "code",
      "source": [
        "str=\"Example for Meta Characters in Regular Expression\"\n",
        "res=re.findall(\"[in]\",str)\n",
        "print(res)"
      ],
      "metadata": {
        "colab": {
          "base_uri": "https://localhost:8080/"
        },
        "id": "Uns1ayvXUveK",
        "outputId": "8ea97ac7-4e67-46e6-c73c-8511bebe6efd"
      },
      "execution_count": 4,
      "outputs": [
        {
          "output_type": "stream",
          "name": "stdout",
          "text": [
            "['i', 'n', 'i', 'n']\n"
          ]
        }
      ]
    },
    {
      "cell_type": "code",
      "source": [
        "m=re.search('[abc-]', '123-456')\n",
        "print(m.start())\n",
        "print(m.end())\n",
        "print(m.span())\n",
        "print(m.string)"
      ],
      "metadata": {
        "colab": {
          "base_uri": "https://localhost:8080/"
        },
        "id": "d93H9884XXLa",
        "outputId": "a22b6f00-11a2-4a03-83e8-d5b44b993c14"
      },
      "execution_count": 5,
      "outputs": [
        {
          "output_type": "stream",
          "name": "stdout",
          "text": [
            "3\n",
            "4\n",
            "(3, 4)\n",
            "123-456\n"
          ]
        }
      ]
    },
    {
      "cell_type": "code",
      "source": [
        "#search\n",
        "full_string = \"Hello, welcome to the world of Python!\"\n",
        "substring = \"welcome\"\n",
        "\n",
        "if re.search(substring, full_string):\n",
        "    print(\"Substring found!\")\n",
        "else:\n",
        "    print(\"Substring not found.\")"
      ],
      "metadata": {
        "colab": {
          "base_uri": "https://localhost:8080/"
        },
        "id": "Yrbw1l9NgVfd",
        "outputId": "5bd27514-3ed8-4bd2-e19c-aa140940a525"
      },
      "execution_count": 6,
      "outputs": [
        {
          "output_type": "stream",
          "name": "stdout",
          "text": [
            "Substring found!\n"
          ]
        }
      ]
    },
    {
      "cell_type": "code",
      "source": [
        "#match\n",
        "full_string = \"Hello, welcome to the world of Python!\"\n",
        "substring = \"welcome\"\n",
        "\n",
        "if re.match(substring, full_string):\n",
        "    print(\"Substring found!\")\n",
        "else:\n",
        "    print(\"Substring not found.\")"
      ],
      "metadata": {
        "colab": {
          "base_uri": "https://localhost:8080/",
          "height": 48
        },
        "id": "6apO9lP-gYdH",
        "outputId": "fb9e7146-8872-4477-ae08-bc14bedeb9a0"
      },
      "execution_count": null,
      "outputs": [
        {
          "output_type": "display_data",
          "data": {
            "text/plain": [
              "<IPython.core.display.HTML object>"
            ],
            "text/html": [
              "<style> \n",
              "    body {\n",
              "      font-size: 20px;\n",
              "    }\n",
              "  "
            ]
          },
          "metadata": {}
        },
        {
          "output_type": "display_data",
          "data": {
            "text/plain": [
              "<IPython.core.display.HTML object>"
            ],
            "text/html": [
              "<style> \n",
              "    body {\n",
              "      font-size: 24px;\n",
              "    }\n",
              "  "
            ]
          },
          "metadata": {}
        },
        {
          "output_type": "stream",
          "name": "stdout",
          "text": [
            "Substring not found.\n"
          ]
        }
      ]
    },
    {
      "cell_type": "code",
      "source": [
        "#match\n",
        "txt =\"The rain in Spain\"\n",
        "x = re.match(\"The\",txt)\n",
        "print(type(x))\n",
        "print(\"The first white-space character is located in position:\", x.start())\n",
        "\n"
      ],
      "metadata": {
        "colab": {
          "base_uri": "https://localhost:8080/",
          "height": 78
        },
        "id": "kU8YiWnyhSf3",
        "outputId": "f08a5976-0d22-469e-b4d1-1b71c983d8bc"
      },
      "execution_count": null,
      "outputs": [
        {
          "output_type": "display_data",
          "data": {
            "text/plain": [
              "<IPython.core.display.HTML object>"
            ],
            "text/html": [
              "<style> \n",
              "    body {\n",
              "      font-size: 20px;\n",
              "    }\n",
              "  "
            ]
          },
          "metadata": {}
        },
        {
          "output_type": "display_data",
          "data": {
            "text/plain": [
              "<IPython.core.display.HTML object>"
            ],
            "text/html": [
              "<style> \n",
              "    body {\n",
              "      font-size: 24px;\n",
              "    }\n",
              "  "
            ]
          },
          "metadata": {}
        },
        {
          "output_type": "stream",
          "name": "stdout",
          "text": [
            "<class 're.Match'>\n",
            "The first white-space character is located in position: 0\n"
          ]
        }
      ]
    },
    {
      "cell_type": "code",
      "source": [
        "#match-after changing pattern\n",
        "full_string = \"Hello, welcome to the world of Python!\"\n",
        "substring = \"(.*)welcome\"\n",
        "\n",
        "if re.match(substring, full_string):\n",
        "    print(\"Substring found!\")\n",
        "else:\n",
        "    print(\"Substring not found.\")"
      ],
      "metadata": {
        "colab": {
          "base_uri": "https://localhost:8080/",
          "height": 48
        },
        "id": "3S5oIDTcghcs",
        "outputId": "3d63002d-043e-4d5a-94af-7886b7493bbb"
      },
      "execution_count": null,
      "outputs": [
        {
          "output_type": "display_data",
          "data": {
            "text/plain": [
              "<IPython.core.display.HTML object>"
            ],
            "text/html": [
              "<style> \n",
              "    body {\n",
              "      font-size: 20px;\n",
              "    }\n",
              "  "
            ]
          },
          "metadata": {}
        },
        {
          "output_type": "display_data",
          "data": {
            "text/plain": [
              "<IPython.core.display.HTML object>"
            ],
            "text/html": [
              "<style> \n",
              "    body {\n",
              "      font-size: 24px;\n",
              "    }\n",
              "  "
            ]
          },
          "metadata": {}
        },
        {
          "output_type": "stream",
          "name": "stdout",
          "text": [
            "Substring found!\n"
          ]
        }
      ]
    },
    {
      "cell_type": "code",
      "source": [
        "m = re.match(r'(\\w+)@(\\w+)\\.(\\w+)','username@hackerrank.com')\n",
        "print(m.group(0))       # The entire match\n",
        "print(m.group(1))       # The first parenthesized subgroup.\n",
        "print(m.group(2))       # The second parenthesized subgroup.\n",
        "print(m.group(3))       # The third parenthesized subgroup.\n",
        "print(m.group(1,2,3))   # Multiple arguments give us a tuple.\n"
      ],
      "metadata": {
        "colab": {
          "base_uri": "https://localhost:8080/",
          "height": 170
        },
        "id": "hwIpw2f4cwCY",
        "outputId": "3c9630d7-a8f3-469f-b858-389fcbb61ce4"
      },
      "execution_count": null,
      "outputs": [
        {
          "output_type": "display_data",
          "data": {
            "text/plain": [
              "<IPython.core.display.HTML object>"
            ],
            "text/html": [
              "<style> \n",
              "    body {\n",
              "      font-size: 20px;\n",
              "    }\n",
              "  "
            ]
          },
          "metadata": {}
        },
        {
          "output_type": "display_data",
          "data": {
            "text/plain": [
              "<IPython.core.display.HTML object>"
            ],
            "text/html": [
              "<style> \n",
              "    body {\n",
              "      font-size: 24px;\n",
              "    }\n",
              "  "
            ]
          },
          "metadata": {}
        },
        {
          "output_type": "stream",
          "name": "stdout",
          "text": [
            "username@hackerrank.com\n",
            "username\n",
            "hackerrank\n",
            "com\n",
            "('username', 'hackerrank', 'com')\n"
          ]
        }
      ]
    },
    {
      "cell_type": "code",
      "source": [
        "m = re.match(r'(\\w+)@(\\w+)\\.(\\w+)','username@hackerrank.com')\n",
        "print(m.groups())\n"
      ],
      "metadata": {
        "colab": {
          "base_uri": "https://localhost:8080/",
          "height": 48
        },
        "id": "JQgXDP-Gdais",
        "outputId": "296a956e-8b45-4c12-8697-2b8f2701e00d"
      },
      "execution_count": null,
      "outputs": [
        {
          "output_type": "display_data",
          "data": {
            "text/plain": [
              "<IPython.core.display.HTML object>"
            ],
            "text/html": [
              "<style> \n",
              "    body {\n",
              "      font-size: 20px;\n",
              "    }\n",
              "  "
            ]
          },
          "metadata": {}
        },
        {
          "output_type": "display_data",
          "data": {
            "text/plain": [
              "<IPython.core.display.HTML object>"
            ],
            "text/html": [
              "<style> \n",
              "    body {\n",
              "      font-size: 24px;\n",
              "    }\n",
              "  "
            ]
          },
          "metadata": {}
        },
        {
          "output_type": "stream",
          "name": "stdout",
          "text": [
            "('username', 'hackerrank', 'com')\n"
          ]
        }
      ]
    },
    {
      "cell_type": "code",
      "source": [
        "import re\n",
        "m = re.match('(?P<user>\\w+)@(?P<website>\\w+)\\.(?P<extension>\\w+)','myname@hackerrank.com')\n",
        "print(m.groupdict())\n",
        "if m:\n",
        "    print(\"Full name:\", m.group('user'))\n",
        "    print(\"website:\", m.group('website'))\n"
      ],
      "metadata": {
        "colab": {
          "base_uri": "https://localhost:8080/",
          "height": 109
        },
        "id": "jHcr2ZEueqoN",
        "outputId": "30dce363-57ef-469d-d953-86acd2b3434e"
      },
      "execution_count": null,
      "outputs": [
        {
          "output_type": "display_data",
          "data": {
            "text/plain": [
              "<IPython.core.display.HTML object>"
            ],
            "text/html": [
              "<style> \n",
              "    body {\n",
              "      font-size: 20px;\n",
              "    }\n",
              "  "
            ]
          },
          "metadata": {}
        },
        {
          "output_type": "display_data",
          "data": {
            "text/plain": [
              "<IPython.core.display.HTML object>"
            ],
            "text/html": [
              "<style> \n",
              "    body {\n",
              "      font-size: 24px;\n",
              "    }\n",
              "  "
            ]
          },
          "metadata": {}
        },
        {
          "output_type": "stream",
          "name": "stdout",
          "text": [
            "{'user': 'myname', 'website': 'hackerrank', 'extension': 'com'}\n",
            "Full name: myname\n",
            "website: hackerrank\n"
          ]
        }
      ]
    },
    {
      "cell_type": "code",
      "source": [
        "s=\"a123456\"\n",
        "res=re.search(\"([0-9]{2,5}$)\",s)\n",
        "print(res)\n"
      ],
      "metadata": {
        "colab": {
          "base_uri": "https://localhost:8080/"
        },
        "id": "kRmu-W7si2CD",
        "outputId": "2cb14a8e-52f6-4b63-cb34-f423ebaf3702"
      },
      "execution_count": 7,
      "outputs": [
        {
          "output_type": "stream",
          "name": "stdout",
          "text": [
            "<re.Match object; span=(2, 7), match='23456'>\n"
          ]
        }
      ]
    },
    {
      "cell_type": "code",
      "source": [
        "import re\n",
        "\n",
        "res = re.search(\"([0-9]{2,5})\", \"a123456\")\n",
        "\n",
        "if res:\n",
        "    print(f\"Match found: {res.group()}\")\n",
        "else:\n",
        "    print(\"No match found.\")"
      ],
      "metadata": {
        "colab": {
          "base_uri": "https://localhost:8080/",
          "height": 48
        },
        "id": "MXwK4gfYjeTg",
        "outputId": "e12f986c-1db9-4337-dba7-cfc70e7e1059"
      },
      "execution_count": null,
      "outputs": [
        {
          "output_type": "display_data",
          "data": {
            "text/plain": [
              "<IPython.core.display.HTML object>"
            ],
            "text/html": [
              "<style> \n",
              "    body {\n",
              "      font-size: 20px;\n",
              "    }\n",
              "  "
            ]
          },
          "metadata": {}
        },
        {
          "output_type": "display_data",
          "data": {
            "text/plain": [
              "<IPython.core.display.HTML object>"
            ],
            "text/html": [
              "<style> \n",
              "    body {\n",
              "      font-size: 24px;\n",
              "    }\n",
              "  "
            ]
          },
          "metadata": {}
        },
        {
          "output_type": "stream",
          "name": "stdout",
          "text": [
            "Match found: 12345\n"
          ]
        }
      ]
    },
    {
      "cell_type": "code",
      "source": [
        "import re\n",
        "\n",
        "res = re.search(\"(^[0-9]{5}$)\", \"12345\")\n",
        "\n",
        "if res:\n",
        "    print(f\"Match found: {res.group()}\")\n",
        "else:\n",
        "    print(\"No match found.\")"
      ],
      "metadata": {
        "colab": {
          "base_uri": "https://localhost:8080/"
        },
        "id": "fvwsFcaFkf_I",
        "outputId": "3a3057c7-b746-45df-b2e0-14e48a9b7fa0"
      },
      "execution_count": 9,
      "outputs": [
        {
          "output_type": "stream",
          "name": "stdout",
          "text": [
            "Match found: 12345\n",
            "Match found: 12345\n"
          ]
        }
      ]
    },
    {
      "cell_type": "code",
      "source": [
        "import re\n",
        "\n",
        "res = re.search(\"(^\\d{5}$)\", \"12345\")\n",
        "\n",
        "if res:\n",
        "    print(f\"Match found: {res.group()}\")\n",
        "else:\n",
        "    print(\"No match found.\")"
      ],
      "metadata": {
        "colab": {
          "base_uri": "https://localhost:8080/"
        },
        "id": "RumixJzJk5-v",
        "outputId": "1acbaa17-b997-42df-efc6-20139a5bdc4d"
      },
      "execution_count": 10,
      "outputs": [
        {
          "output_type": "stream",
          "name": "stdout",
          "text": [
            "Match found: 12345\n"
          ]
        }
      ]
    },
    {
      "cell_type": "code",
      "source": [
        "# Sample string\n",
        "text = \"Hello, this is an example string.\\nIt has multiple lines and    spaces.\"\n",
        "# Pattern to find a whitespace character followed by 'example'\n",
        "pattern = \"\\s(example)\"\n",
        "# Search for the pattern in the text\n",
        "print(re.search(pattern, text))\n",
        "# Check if a match is found\n"
      ],
      "metadata": {
        "colab": {
          "base_uri": "https://localhost:8080/"
        },
        "id": "3H6FbSHPlQTQ",
        "outputId": "f7d17673-cfbc-4d46-9df9-cf5414b9d8bf"
      },
      "execution_count": 14,
      "outputs": [
        {
          "output_type": "stream",
          "name": "stdout",
          "text": [
            "Whole match:  example\n"
          ]
        }
      ]
    },
    {
      "cell_type": "code",
      "source": [
        "print(re.search(\"[ac-]\",\"zndf-\"))"
      ],
      "metadata": {
        "colab": {
          "base_uri": "https://localhost:8080/"
        },
        "id": "zpzUraUjp7ne",
        "outputId": "6670edf0-83bf-4024-dadf-e066af52aebc"
      },
      "execution_count": 15,
      "outputs": [
        {
          "output_type": "stream",
          "name": "stdout",
          "text": [
            "<re.Match object; span=(4, 5), match='-'>\n"
          ]
        }
      ]
    },
    {
      "cell_type": "code",
      "source": [
        "#match pattern a or b or c\n",
        "print(re.search(\"[a-c]\",\"bmm\"))"
      ],
      "metadata": {
        "colab": {
          "base_uri": "https://localhost:8080/",
          "height": 48
        },
        "id": "7r4COydXqd2y",
        "outputId": "83a3761a-42d8-4b0e-a46a-0bd68b6444a8"
      },
      "execution_count": null,
      "outputs": [
        {
          "output_type": "display_data",
          "data": {
            "text/plain": [
              "<IPython.core.display.HTML object>"
            ],
            "text/html": [
              "<style> \n",
              "    body {\n",
              "      font-size: 20px;\n",
              "    }\n",
              "  "
            ]
          },
          "metadata": {}
        },
        {
          "output_type": "display_data",
          "data": {
            "text/plain": [
              "<IPython.core.display.HTML object>"
            ],
            "text/html": [
              "<style> \n",
              "    body {\n",
              "      font-size: 24px;\n",
              "    }\n",
              "  "
            ]
          },
          "metadata": {}
        },
        {
          "output_type": "stream",
          "name": "stdout",
          "text": [
            "<re.Match object; span=(0, 1), match='b'>\n"
          ]
        }
      ]
    },
    {
      "cell_type": "code",
      "source": [
        "#match pattern a or - or c\n",
        "print(re.search(\"[a\\-c]\",\"b-mm\"))"
      ],
      "metadata": {
        "colab": {
          "base_uri": "https://localhost:8080/",
          "height": 48
        },
        "id": "ZQU2gFBCqmwq",
        "outputId": "cefe79f0-0e32-42dc-83ae-645b8c673d8a"
      },
      "execution_count": null,
      "outputs": [
        {
          "output_type": "display_data",
          "data": {
            "text/plain": [
              "<IPython.core.display.HTML object>"
            ],
            "text/html": [
              "<style> \n",
              "    body {\n",
              "      font-size: 20px;\n",
              "    }\n",
              "  "
            ]
          },
          "metadata": {}
        },
        {
          "output_type": "display_data",
          "data": {
            "text/plain": [
              "<IPython.core.display.HTML object>"
            ],
            "text/html": [
              "<style> \n",
              "    body {\n",
              "      font-size: 24px;\n",
              "    }\n",
              "  "
            ]
          },
          "metadata": {}
        },
        {
          "output_type": "stream",
          "name": "stdout",
          "text": [
            "<re.Match object; span=(1, 2), match='-'>\n"
          ]
        }
      ]
    },
    {
      "cell_type": "code",
      "source": [
        "#. matches any character except new line\n",
        "res=re.search(\"P.\",\"P\\nython is my favourite language\")\n",
        "print(res)"
      ],
      "metadata": {
        "colab": {
          "base_uri": "https://localhost:8080/"
        },
        "id": "43xuCzwNjERT",
        "outputId": "80f6263c-e202-4610-c6d4-d1f95a245fe6"
      },
      "execution_count": 19,
      "outputs": [
        {
          "output_type": "stream",
          "name": "stdout",
          "text": [
            "None\n"
          ]
        }
      ]
    },
    {
      "cell_type": "code",
      "source": [
        "res=re.search(\"P.\",\"Python is my favourite language\")\n",
        "print(res)"
      ],
      "metadata": {
        "id": "8-Ad4ycBjT5N",
        "colab": {
          "base_uri": "https://localhost:8080/"
        },
        "outputId": "948fb90e-e51d-4e10-ffd9-5efdde723e7f"
      },
      "execution_count": 20,
      "outputs": [
        {
          "output_type": "stream",
          "name": "stdout",
          "text": [
            "<re.Match object; span=(0, 2), match='Py'>\n"
          ]
        }
      ]
    },
    {
      "cell_type": "code",
      "source": [
        "#check if string ends with $ symbol\n",
        "res=re.search(\".*\\$$\",\"Python is my favourite language$\")\n",
        "print(res)"
      ],
      "metadata": {
        "colab": {
          "base_uri": "https://localhost:8080/"
        },
        "id": "Udcv5JNlkOaM",
        "outputId": "f09f2956-ebd7-4ab6-be02-707620e57975"
      },
      "execution_count": 21,
      "outputs": [
        {
          "output_type": "stream",
          "name": "stdout",
          "text": [
            "<re.Match object; span=(0, 32), match='Python is my favourite language$'>\n"
          ]
        }
      ]
    },
    {
      "cell_type": "code",
      "source": [
        "#check if string ends with $ symbol\n",
        "#Normally $ in regex means “end of string,” but here the backslash \\ escapes it, so it becomes just the $ character.\n",
        "res=re.search(\".*\\$$\",\"Python is my favourite language\")\n",
        "print(res)"
      ],
      "metadata": {
        "colab": {
          "base_uri": "https://localhost:8080/"
        },
        "id": "Hbt9ATNIkYK0",
        "outputId": "ae0edd0a-0b68-464b-a4d7-feaa0ea36942"
      },
      "execution_count": null,
      "outputs": [
        {
          "output_type": "stream",
          "name": "stdout",
          "text": [
            "None\n"
          ]
        }
      ]
    },
    {
      "cell_type": "code",
      "source": [
        "str=\"Example for Meta Characters in Regular Expression\"\n",
        "\n",
        "res=re.findall(\"Exam.....\",str)\n",
        "'''\n",
        "Exam → match exactly \"Exam\".\n",
        "..... → each . matches any single character (except newline), so ..... means exactly 5 characters after \"Exam\".\n",
        "This whole pattern matches \"Exam\" + 5 more characters = 9 characters total.\n",
        "'''\n",
        "print(res)"
      ],
      "metadata": {
        "colab": {
          "base_uri": "https://localhost:8080/"
        },
        "id": "6eRWJYHRV9PD",
        "outputId": "9ca90f21-44f6-4234-cbae-574d3d76d8bc"
      },
      "execution_count": 22,
      "outputs": [
        {
          "output_type": "stream",
          "name": "stdout",
          "text": [
            "['Example f']\n"
          ]
        }
      ]
    },
    {
      "cell_type": "code",
      "source": [
        "str=\"Example for Meta Characters in Regular Expression\"\n",
        "res=re.findall(\"..r\",str)\n",
        "print(res)"
      ],
      "metadata": {
        "colab": {
          "base_uri": "https://localhost:8080/"
        },
        "id": "0IhEGwbbWmCr",
        "outputId": "03708715-57d2-4176-813f-d27d3b0a07e9"
      },
      "execution_count": 24,
      "outputs": [
        {
          "output_type": "stream",
          "name": "stdout",
          "text": [
            "['for', 'har', 'ter', 'lar', 'xpr']\n"
          ]
        }
      ]
    },
    {
      "cell_type": "code",
      "source": [
        "str=\"Example\"\n",
        "res=re.findall(\"m+\",str)\n",
        "print(res)"
      ],
      "metadata": {
        "colab": {
          "base_uri": "https://localhost:8080/"
        },
        "id": "P5_paQ3DW-6H",
        "outputId": "af1f8585-6027-4fd4-8e0f-11ab301dd136"
      },
      "execution_count": 23,
      "outputs": [
        {
          "output_type": "stream",
          "name": "stdout",
          "text": [
            "['m']\n"
          ]
        }
      ]
    },
    {
      "cell_type": "code",
      "source": [
        "str=\"Example for Meta Characters in Regular Expression\"\n",
        "res=re.findall(\"..xam\",str)\n",
        "print(res)"
      ],
      "metadata": {
        "colab": {
          "base_uri": "https://localhost:8080/"
        },
        "id": "Xxt5R6wjWNMs",
        "outputId": "67023923-f551-4257-f552-67a3f3438e52"
      },
      "execution_count": 27,
      "outputs": [
        {
          "output_type": "stream",
          "name": "stdout",
          "text": [
            "['Exam']\n"
          ]
        }
      ]
    },
    {
      "cell_type": "code",
      "source": [
        "pattern = \"/bin/b.*a$\"\n",
        "text = \"/bin/ba\"\n",
        "'''\n",
        "/bin/ → literal string /bin/.\n",
        "b → literal b\n",
        ".* → zero or more of any character (except newline by default)\n",
        "a → literal a\n",
        "$ → match at end of string\n",
        "'''\n",
        "# Finding all matches\n",
        "print(re.findall(pattern, text))"
      ],
      "metadata": {
        "colab": {
          "base_uri": "https://localhost:8080/"
        },
        "id": "SF6iyJYpYeDv",
        "outputId": "3fabed54-59ce-43a4-eecc-70d2899f9d55"
      },
      "execution_count": 28,
      "outputs": [
        {
          "output_type": "stream",
          "name": "stdout",
          "text": [
            "['/bin/ba']\n"
          ]
        }
      ]
    },
    {
      "cell_type": "code",
      "source": [
        "pattern = \"/bin/b.*a$\"\n",
        "text = \"/bin/bsa\"\n",
        "\n",
        "# Finding all matches\n",
        "print(re.findall(pattern, text))"
      ],
      "metadata": {
        "colab": {
          "base_uri": "https://localhost:8080/"
        },
        "id": "zHYJtG9SYeoo",
        "outputId": "6ccc23ce-6088-4226-80e8-8c978e3e274a"
      },
      "execution_count": 29,
      "outputs": [
        {
          "output_type": "stream",
          "name": "stdout",
          "text": [
            "['/bin/bsa']\n"
          ]
        }
      ]
    },
    {
      "cell_type": "code",
      "source": [
        "pattern = \"/bin/b.*a$\"\n",
        "text = \"/bin/cba\"\n",
        "\n",
        "# Finding all matches\n",
        "print(re.findall(pattern, text))"
      ],
      "metadata": {
        "colab": {
          "base_uri": "https://localhost:8080/"
        },
        "id": "WH0EO-eyYkuI",
        "outputId": "b0928e0f-cd91-409c-d73c-a224d6d1e2d9"
      },
      "execution_count": 30,
      "outputs": [
        {
          "output_type": "stream",
          "name": "stdout",
          "text": [
            "[]\n"
          ]
        }
      ]
    },
    {
      "cell_type": "code",
      "source": [
        "s = 'foo123bar'\n",
        "print(re.search('123', s))"
      ],
      "metadata": {
        "colab": {
          "base_uri": "https://localhost:8080/"
        },
        "id": "9MBtLFdNpkJM",
        "outputId": "9801109d-2daa-4d1b-904a-c72bf76bd213"
      },
      "execution_count": 31,
      "outputs": [
        {
          "output_type": "stream",
          "name": "stdout",
          "text": [
            "<re.Match object; span=(3, 6), match='123'>\n"
          ]
        }
      ]
    },
    {
      "cell_type": "code",
      "source": [
        "s = 'foo123bar'\n",
        "print(re.search('1234', s))"
      ],
      "metadata": {
        "colab": {
          "base_uri": "https://localhost:8080/"
        },
        "id": "YqGRsoinr_eL",
        "outputId": "f31934b2-3836-4288-8101-487d236678e5"
      },
      "execution_count": 32,
      "outputs": [
        {
          "output_type": "stream",
          "name": "stdout",
          "text": [
            "None\n"
          ]
        }
      ]
    },
    {
      "cell_type": "code",
      "source": [
        "s = 'foo123bar'\n",
        "re.search('[0-9][0-9][0-9]', s)"
      ],
      "metadata": {
        "colab": {
          "base_uri": "https://localhost:8080/"
        },
        "id": "05yDOpd11K71",
        "outputId": "388c20d3-b7e1-4397-ddc5-988edde1ce5a"
      },
      "execution_count": 33,
      "outputs": [
        {
          "output_type": "execute_result",
          "data": {
            "text/plain": [
              "<re.Match object; span=(3, 6), match='123'>"
            ]
          },
          "metadata": {},
          "execution_count": 33
        }
      ]
    },
    {
      "cell_type": "code",
      "source": [
        "re.search('[0-9][0-9][0-9]', '234baz')"
      ],
      "metadata": {
        "colab": {
          "base_uri": "https://localhost:8080/"
        },
        "id": "GWzU-SzXIlJc",
        "outputId": "ccac846d-07b3-493a-f652-b966892aaa93"
      },
      "execution_count": 34,
      "outputs": [
        {
          "output_type": "execute_result",
          "data": {
            "text/plain": [
              "<re.Match object; span=(0, 3), match='234'>"
            ]
          },
          "metadata": {},
          "execution_count": 34
        }
      ]
    },
    {
      "cell_type": "code",
      "source": [
        "re.search('[0-9][0-9][0-9]', 'qux678')"
      ],
      "metadata": {
        "colab": {
          "base_uri": "https://localhost:8080/"
        },
        "id": "v0hvmanUIlvd",
        "outputId": "96224146-34bc-4d38-c008-a9345082bb6b"
      },
      "execution_count": 35,
      "outputs": [
        {
          "output_type": "execute_result",
          "data": {
            "text/plain": [
              "<re.Match object; span=(3, 6), match='678'>"
            ]
          },
          "metadata": {},
          "execution_count": 35
        }
      ]
    },
    {
      "cell_type": "code",
      "source": [
        "print(re.search('[0-9][0-9][0-9]', '12foo34'))"
      ],
      "metadata": {
        "colab": {
          "base_uri": "https://localhost:8080/"
        },
        "id": "YjpAOyd0Jt3z",
        "outputId": "ec4216c5-6547-4a6a-87f3-01ec58d3677f"
      },
      "execution_count": 36,
      "outputs": [
        {
          "output_type": "stream",
          "name": "stdout",
          "text": [
            "None\n"
          ]
        }
      ]
    },
    {
      "cell_type": "code",
      "source": [
        "s=\"adffd123\"\n",
        "print(re.search('1.3', s))"
      ],
      "metadata": {
        "colab": {
          "base_uri": "https://localhost:8080/"
        },
        "id": "VUwIjnjPJz-U",
        "outputId": "139eea99-8925-4647-c92b-10b66649c73e"
      },
      "execution_count": 37,
      "outputs": [
        {
          "output_type": "stream",
          "name": "stdout",
          "text": [
            "<re.Match object; span=(5, 8), match='123'>\n"
          ]
        }
      ]
    },
    {
      "cell_type": "code",
      "source": [
        "s=\"adffd1223\"\n",
        "print(re.search('1.3', s))"
      ],
      "metadata": {
        "colab": {
          "base_uri": "https://localhost:8080/"
        },
        "id": "HxM7lmoqu92j",
        "outputId": "0677bdb2-dd24-42bd-b72c-a8e4141f040c"
      },
      "execution_count": 38,
      "outputs": [
        {
          "output_type": "stream",
          "name": "stdout",
          "text": [
            "None\n"
          ]
        }
      ]
    },
    {
      "cell_type": "code",
      "source": [
        "s=\"adffd1!23\"\n",
        "print(re.search('1.*3', s))"
      ],
      "metadata": {
        "colab": {
          "base_uri": "https://localhost:8080/"
        },
        "id": "N86eUfosvAYp",
        "outputId": "1cbcd7aa-b042-428c-abd4-053640553899"
      },
      "execution_count": 39,
      "outputs": [
        {
          "output_type": "stream",
          "name": "stdout",
          "text": [
            "<re.Match object; span=(5, 9), match='1!23'>\n"
          ]
        }
      ]
    },
    {
      "cell_type": "code",
      "source": [
        "s = 'foo13bar'\n",
        "print(re.search('1.3', s))"
      ],
      "metadata": {
        "colab": {
          "base_uri": "https://localhost:8080/"
        },
        "id": "5r4NVDLOKRMa",
        "outputId": "fdc2b1d7-f628-4a59-b4f6-495de03c1b65"
      },
      "execution_count": 40,
      "outputs": [
        {
          "output_type": "stream",
          "name": "stdout",
          "text": [
            "None\n"
          ]
        }
      ]
    },
    {
      "cell_type": "code",
      "source": [
        "re.search('ba[artz]', 'foobarqux')"
      ],
      "metadata": {
        "colab": {
          "base_uri": "https://localhost:8080/"
        },
        "id": "SCIxb1pfL197",
        "outputId": "578282f9-5293-4241-f429-e89d7e96e677"
      },
      "execution_count": 41,
      "outputs": [
        {
          "output_type": "execute_result",
          "data": {
            "text/plain": [
              "<re.Match object; span=(3, 6), match='bar'>"
            ]
          },
          "metadata": {},
          "execution_count": 41
        }
      ]
    },
    {
      "cell_type": "code",
      "source": [
        "re.search('ba[artz]', 'foobazqux')"
      ],
      "metadata": {
        "colab": {
          "base_uri": "https://localhost:8080/"
        },
        "id": "EChEABVoRNvc",
        "outputId": "ce13288b-e95f-4fad-f3a9-e14964999fdc"
      },
      "execution_count": 42,
      "outputs": [
        {
          "output_type": "execute_result",
          "data": {
            "text/plain": [
              "<re.Match object; span=(3, 6), match='baz'>"
            ]
          },
          "metadata": {},
          "execution_count": 42
        }
      ]
    },
    {
      "cell_type": "code",
      "source": [
        "re.search('ba[ei]', 'foobazqux')"
      ],
      "metadata": {
        "id": "C_jBuZTTveDL"
      },
      "execution_count": 43,
      "outputs": []
    },
    {
      "cell_type": "code",
      "source": [
        " re.search('[a-z]', 'FOObar')"
      ],
      "metadata": {
        "colab": {
          "base_uri": "https://localhost:8080/"
        },
        "id": "3qZ2-QTSVpYi",
        "outputId": "7b180346-a49c-4e7d-8c30-43c2b9361c00"
      },
      "execution_count": 44,
      "outputs": [
        {
          "output_type": "execute_result",
          "data": {
            "text/plain": [
              "<re.Match object; span=(3, 4), match='b'>"
            ]
          },
          "metadata": {},
          "execution_count": 44
        }
      ]
    },
    {
      "cell_type": "code",
      "source": [
        "re.search('[0-9][0-9]', 'foo123bar')"
      ],
      "metadata": {
        "colab": {
          "base_uri": "https://localhost:8080/"
        },
        "id": "33ULBF8zVxND",
        "outputId": "459b9145-8b93-45b7-a866-903d04c22961"
      },
      "execution_count": null,
      "outputs": [
        {
          "output_type": "execute_result",
          "data": {
            "text/plain": [
              "<re.Match object; span=(3, 5), match='12'>"
            ]
          },
          "metadata": {},
          "execution_count": 123
        }
      ]
    },
    {
      "cell_type": "code",
      "source": [
        "re.search('[^0-9]', '12345foo')"
      ],
      "metadata": {
        "colab": {
          "base_uri": "https://localhost:8080/"
        },
        "id": "GHGtCBYZV4pM",
        "outputId": "1d7c6543-2f54-42ee-8e38-052552a9494f"
      },
      "execution_count": null,
      "outputs": [
        {
          "output_type": "execute_result",
          "data": {
            "text/plain": [
              "<re.Match object; span=(5, 6), match='f'>"
            ]
          },
          "metadata": {},
          "execution_count": 124
        }
      ]
    },
    {
      "cell_type": "code",
      "source": [
        "re.search('[#^]', 'foo^bar:baz#qux')\n",
        "'''\n",
        "[ ] → character class — matches any one character from inside the brackets.\n",
        "#^ → means either # or ^ (no need to escape ^ here because it’s not at the start of the class).\n",
        "So the regex is looking for:\n",
        "“Find the first occurrence of either # or ^.”\n",
        "'''\n"
      ],
      "metadata": {
        "colab": {
          "base_uri": "https://localhost:8080/"
        },
        "id": "jtqwgVilWHji",
        "outputId": "01a9025f-0cf8-460b-959f-2fd192079310"
      },
      "execution_count": 45,
      "outputs": [
        {
          "output_type": "execute_result",
          "data": {
            "text/plain": [
              "<re.Match object; span=(3, 4), match='^'>"
            ]
          },
          "metadata": {},
          "execution_count": 45
        }
      ]
    },
    {
      "cell_type": "code",
      "source": [
        "re.search('[-abc]', '123-456')"
      ],
      "metadata": {
        "colab": {
          "base_uri": "https://localhost:8080/"
        },
        "id": "mG3k84auWjmy",
        "outputId": "b3c857f4-682f-4486-9477-ca313876f31a"
      },
      "execution_count": null,
      "outputs": [
        {
          "output_type": "execute_result",
          "data": {
            "text/plain": [
              "<re.Match object; span=(3, 4), match='-'>"
            ]
          },
          "metadata": {},
          "execution_count": 127
        }
      ]
    },
    {
      "cell_type": "markdown",
      "source": [],
      "metadata": {
        "id": "2CS8yJyTLxs5"
      }
    },
    {
      "cell_type": "code",
      "source": [
        "import re\n",
        "re.findall('[ab\\-c]', '123-456')"
      ],
      "metadata": {
        "colab": {
          "base_uri": "https://localhost:8080/"
        },
        "id": "wnr1Fl8LXbIz",
        "outputId": "7952d0f1-b062-48f2-f632-3d414401fc5e"
      },
      "execution_count": null,
      "outputs": [
        {
          "output_type": "execute_result",
          "data": {
            "text/plain": [
              "['-']"
            ]
          },
          "metadata": {},
          "execution_count": 5
        }
      ]
    },
    {
      "cell_type": "code",
      "source": [
        "\n",
        "re.findall('[a-c]', 'abdc')"
      ],
      "metadata": {
        "colab": {
          "base_uri": "https://localhost:8080/"
        },
        "id": "0yZ4bkVJ8cjM",
        "outputId": "3b89cb54-a483-4d27-da21-9e809e9b709f"
      },
      "execution_count": null,
      "outputs": [
        {
          "output_type": "execute_result",
          "data": {
            "text/plain": [
              "['a', 'b', 'c']"
            ]
          },
          "metadata": {},
          "execution_count": 4
        }
      ]
    },
    {
      "cell_type": "code",
      "source": [
        "#If you want to include a literal ']' in a character class,\n",
        "#then you can place it as the first character or escape it with backslash:\n",
        "re.search('[]]', 'foo[1]')\n"
      ],
      "metadata": {
        "colab": {
          "base_uri": "https://localhost:8080/"
        },
        "id": "3-z3ktnaXhI7",
        "outputId": "8c4c0829-31d8-4848-a555-cf162a134a72"
      },
      "execution_count": 46,
      "outputs": [
        {
          "output_type": "execute_result",
          "data": {
            "text/plain": [
              "<re.Match object; span=(5, 6), match=']'>"
            ]
          },
          "metadata": {},
          "execution_count": 46
        }
      ]
    },
    {
      "cell_type": "code",
      "source": [
        "re.search('[ab\\]cd]', 'foo[1]')"
      ],
      "metadata": {
        "colab": {
          "base_uri": "https://localhost:8080/"
        },
        "id": "8cB-oY2ZXpiS",
        "outputId": "739d8948-da21-4442-f83c-02960faf56e0"
      },
      "execution_count": 47,
      "outputs": [
        {
          "output_type": "execute_result",
          "data": {
            "text/plain": [
              "<re.Match object; span=(5, 6), match=']'>"
            ]
          },
          "metadata": {},
          "execution_count": 47
        }
      ]
    },
    {
      "cell_type": "code",
      "source": [
        "#Other regex metacharacters lose their special\n",
        "#meaning inside a character class:\n",
        "re.search('[)*+|]', '1[2345)6')"
      ],
      "metadata": {
        "colab": {
          "base_uri": "https://localhost:8080/"
        },
        "id": "W-WkDAuzX1Ca",
        "outputId": "385466fd-2ec9-4f4b-c8e4-e15fe5c21cb7"
      },
      "execution_count": 48,
      "outputs": [
        {
          "output_type": "execute_result",
          "data": {
            "text/plain": [
              "<re.Match object; span=(6, 7), match=')'>"
            ]
          },
          "metadata": {},
          "execution_count": 48
        }
      ]
    },
    {
      "cell_type": "code",
      "source": [
        "#Other regex metacharacters lose their special\n",
        "#meaning inside a character class:\n",
        "re.search('[)*+|]', '1|2345)6')"
      ],
      "metadata": {
        "colab": {
          "base_uri": "https://localhost:8080/"
        },
        "id": "AC4-mNm7tP4t",
        "outputId": "47f290ff-5504-4a0f-ce1a-96dbd14eb0ec"
      },
      "execution_count": null,
      "outputs": [
        {
          "output_type": "execute_result",
          "data": {
            "text/plain": [
              "<re.Match object; span=(1, 2), match='|'>"
            ]
          },
          "metadata": {},
          "execution_count": 135
        }
      ]
    },
    {
      "cell_type": "code",
      "source": [
        "re.search('foo.bar', 'fooxbar')"
      ],
      "metadata": {
        "colab": {
          "base_uri": "https://localhost:8080/"
        },
        "id": "wl7j1IU_YGer",
        "outputId": "58ac9262-2d25-4bcc-df10-4058bd4b72b9"
      },
      "execution_count": null,
      "outputs": [
        {
          "output_type": "execute_result",
          "data": {
            "text/plain": [
              "<re.Match object; span=(0, 7), match='fooxbar'>"
            ]
          },
          "metadata": {},
          "execution_count": 34
        }
      ]
    },
    {
      "cell_type": "code",
      "source": [
        "print(re.search('foo.bar', 'foobar'))"
      ],
      "metadata": {
        "colab": {
          "base_uri": "https://localhost:8080/"
        },
        "id": "ZU4OZYkdYQs8",
        "outputId": "0ea598eb-1044-4765-f423-feebc5f36847"
      },
      "execution_count": null,
      "outputs": [
        {
          "output_type": "stream",
          "name": "stdout",
          "text": [
            "None\n"
          ]
        }
      ]
    },
    {
      "cell_type": "code",
      "source": [
        "print(re.search('foo.bar', 'foo\\nbar'))"
      ],
      "metadata": {
        "id": "qcxQjt7IYSeb",
        "colab": {
          "base_uri": "https://localhost:8080/"
        },
        "outputId": "02559bfe-6949-494e-a9e0-4ef5191c81a4"
      },
      "execution_count": null,
      "outputs": [
        {
          "output_type": "stream",
          "name": "stdout",
          "text": [
            "None\n"
          ]
        }
      ]
    },
    {
      "cell_type": "code",
      "source": [
        "print(re.search('(Mon)|(Tues)day', 'Monday'))"
      ],
      "metadata": {
        "colab": {
          "base_uri": "https://localhost:8080/"
        },
        "id": "zAp74QW5vys9",
        "outputId": "965f65ef-a81f-4527-883b-b30b27d4605e"
      },
      "execution_count": null,
      "outputs": [
        {
          "output_type": "stream",
          "name": "stdout",
          "text": [
            "<re.Match object; span=(0, 3), match='Mon'>\n"
          ]
        }
      ]
    },
    {
      "cell_type": "code",
      "source": [
        "print(re.search('(Mon)|(Tues)day', 'Tuesday'))"
      ],
      "metadata": {
        "colab": {
          "base_uri": "https://localhost:8080/"
        },
        "id": "DXmfhQQKv6p5",
        "outputId": "8ac12204-3df0-492a-de89-a02c28c904b8"
      },
      "execution_count": null,
      "outputs": [
        {
          "output_type": "stream",
          "name": "stdout",
          "text": [
            "<re.Match object; span=(0, 7), match='Tuesday'>\n"
          ]
        }
      ]
    },
    {
      "cell_type": "markdown",
      "source": [],
      "metadata": {
        "id": "2CqgcMw-v7BO"
      }
    },
    {
      "cell_type": "code",
      "source": [
        "print(re.search('(Mon)|(Tues)day', 'Wednesday'))"
      ],
      "metadata": {
        "colab": {
          "base_uri": "https://localhost:8080/"
        },
        "id": "EX4gsxhpv6yU",
        "outputId": "72aa6235-eb26-4112-d75b-14bcb805b56f"
      },
      "execution_count": null,
      "outputs": [
        {
          "output_type": "stream",
          "name": "stdout",
          "text": [
            "None\n"
          ]
        }
      ]
    },
    {
      "cell_type": "code",
      "source": [
        "#\\w matches any alphanumeric word character.\n",
        "#Word characters are uppercase and lowercase letters, digits,\n",
        "#and the underscore (_) character, so \\w is essentially shorthand\n",
        "#for [a-zA-Z0-9_]:\n"
      ],
      "metadata": {
        "id": "boGZe7c0YYkT"
      },
      "execution_count": null,
      "outputs": []
    },
    {
      "cell_type": "code",
      "source": [
        "re.search('[a-zA-Z0-9_]', '#(.a$@&')"
      ],
      "metadata": {
        "id": "zuro0njjY6h6",
        "colab": {
          "base_uri": "https://localhost:8080/"
        },
        "outputId": "a2f85894-1322-4b8e-81d9-a45e2e54eac0"
      },
      "execution_count": null,
      "outputs": [
        {
          "output_type": "execute_result",
          "data": {
            "text/plain": [
              "<re.Match object; span=(3, 4), match='a'>"
            ]
          },
          "metadata": {},
          "execution_count": 139
        }
      ]
    },
    {
      "cell_type": "code",
      "source": [
        "re.search('\\w', '#(.a$@&')"
      ],
      "metadata": {
        "id": "2yU6GcxGY2Ay",
        "colab": {
          "base_uri": "https://localhost:8080/"
        },
        "outputId": "91385dcb-28cf-4c67-9bdd-d330e60e7ebc"
      },
      "execution_count": null,
      "outputs": [
        {
          "output_type": "execute_result",
          "data": {
            "text/plain": [
              "<re.Match object; span=(3, 4), match='a'>"
            ]
          },
          "metadata": {},
          "execution_count": 136
        }
      ]
    },
    {
      "cell_type": "code",
      "source": [
        "re.search('\\w', '_#(.a$@&')"
      ],
      "metadata": {
        "colab": {
          "base_uri": "https://localhost:8080/"
        },
        "id": "b0qLlsfWvnS-",
        "outputId": "855e871d-de08-4dbe-f5f2-b32dccf838dc"
      },
      "execution_count": null,
      "outputs": [
        {
          "output_type": "execute_result",
          "data": {
            "text/plain": [
              "<re.Match object; span=(0, 1), match='_'>"
            ]
          },
          "metadata": {},
          "execution_count": 138
        }
      ]
    },
    {
      "cell_type": "code",
      "source": [
        "#\\W is the opposite. It matches any non-word character and is equivalent to\n",
        "#[^a-zA-Z0-9_]:\n",
        "\n",
        "re.search('\\W', 'a_1*3Qb')"
      ],
      "metadata": {
        "colab": {
          "base_uri": "https://localhost:8080/"
        },
        "id": "S-zeYm8hY-fU",
        "outputId": "aa257476-e66d-4e78-f027-6250f82c2eb1"
      },
      "execution_count": null,
      "outputs": [
        {
          "output_type": "execute_result",
          "data": {
            "text/plain": [
              "<re.Match object; span=(3, 4), match='*'>"
            ]
          },
          "metadata": {},
          "execution_count": 140
        }
      ]
    },
    {
      "cell_type": "code",
      "source": [
        "re.search('\\W', '#(.a$@&')"
      ],
      "metadata": {
        "colab": {
          "base_uri": "https://localhost:8080/"
        },
        "id": "gD-V_4GQvjg9",
        "outputId": "94bf1f2d-410f-43c6-cbb4-4cf3ca1dc09d"
      },
      "execution_count": null,
      "outputs": [
        {
          "output_type": "execute_result",
          "data": {
            "text/plain": [
              "<re.Match object; span=(0, 1), match='#'>"
            ]
          },
          "metadata": {},
          "execution_count": 141
        }
      ]
    },
    {
      "cell_type": "code",
      "source": [
        "#\\d matches any decimal digit character. \\D is the opposite.\n",
        "#It matches any character that isn’t a decimal digit:\n",
        "#\\d is essentially equivalent to [0-9], and \\D is equivalent to [^0-9]"
      ],
      "metadata": {
        "id": "SQgCStQkZKxm"
      },
      "execution_count": null,
      "outputs": []
    },
    {
      "cell_type": "code",
      "source": [
        "re.search('\\d', 'abc4def')"
      ],
      "metadata": {
        "colab": {
          "base_uri": "https://localhost:8080/"
        },
        "id": "FpLkhvqTZRK5",
        "outputId": "242c58a0-2a60-4d94-af0e-56e907698dcf"
      },
      "execution_count": null,
      "outputs": [
        {
          "output_type": "execute_result",
          "data": {
            "text/plain": [
              "<re.Match object; span=(3, 4), match='4'>"
            ]
          },
          "metadata": {},
          "execution_count": 39
        }
      ]
    },
    {
      "cell_type": "code",
      "source": [
        "re.search('\\D', '234Q678')"
      ],
      "metadata": {
        "colab": {
          "base_uri": "https://localhost:8080/"
        },
        "id": "wBKXm_r2ZWOT",
        "outputId": "71a304a1-779a-47a0-947f-e4a7c442435c"
      },
      "execution_count": null,
      "outputs": [
        {
          "output_type": "execute_result",
          "data": {
            "text/plain": [
              "<re.Match object; span=(3, 4), match='Q'>"
            ]
          },
          "metadata": {},
          "execution_count": 40
        }
      ]
    },
    {
      "cell_type": "code",
      "source": [
        "#\\s matches any whitespace character\n",
        "\"\"\"\n",
        "\\s escape sequence matches any whitespace character, which includes:\n",
        "\n",
        "Spaces\n",
        "Tabs (\\t)\n",
        "Newline characters (\\n)\n",
        "\"\"\"\n",
        "#\\S is the opposite of \\s. It matches any character that isn’t whitespace.\n"
      ],
      "metadata": {
        "id": "TMzHsfVuZlxT"
      },
      "execution_count": null,
      "outputs": []
    },
    {
      "cell_type": "code",
      "source": [
        "str=\"Example for Meta Characters in Regular Expression\"\n",
        "res=re.findall(\"\\s\",str)\n",
        "print(res)"
      ],
      "metadata": {
        "colab": {
          "base_uri": "https://localhost:8080/"
        },
        "id": "CZeNuShRYX_F",
        "outputId": "c7bba395-64e7-406d-c703-59441b1b8128"
      },
      "execution_count": null,
      "outputs": [
        {
          "output_type": "stream",
          "name": "stdout",
          "text": [
            "[' ', ' ', ' ', ' ', ' ', ' ']\n"
          ]
        }
      ]
    },
    {
      "cell_type": "code",
      "source": [
        "str=\"Example for Meta Characters in Regular Expression\"\n",
        "res=re.findall(\"\\S\",str)\n",
        "print(res)"
      ],
      "metadata": {
        "colab": {
          "base_uri": "https://localhost:8080/"
        },
        "id": "orYRhQC3YbwU",
        "outputId": "2101c5ba-61d1-46ad-8e91-dcae60334633"
      },
      "execution_count": null,
      "outputs": [
        {
          "output_type": "stream",
          "name": "stdout",
          "text": [
            "['E', 'x', 'a', 'm', 'p', 'l', 'e', 'f', 'o', 'r', 'M', 'e', 't', 'a', 'C', 'h', 'a', 'r', 'a', 'c', 't', 'e', 'r', 's', 'i', 'n', 'R', 'e', 'g', 'u', 'l', 'a', 'r', 'E', 'x', 'p', 'r', 'e', 's', 's', 'i', 'o', 'n']\n"
          ]
        }
      ]
    },
    {
      "cell_type": "code",
      "source": [
        "str=\"Example for Meta Characters in Regular Expression!!!\"\n",
        "res=re.findall(\"\\w\",str)\n",
        "print(res)"
      ],
      "metadata": {
        "colab": {
          "base_uri": "https://localhost:8080/"
        },
        "id": "kQ9WB3pJZuHE",
        "outputId": "145c117c-6a7d-48c5-a30e-c26994518e04"
      },
      "execution_count": null,
      "outputs": [
        {
          "output_type": "stream",
          "name": "stdout",
          "text": [
            "['E', 'x', 'a', 'm', 'p', 'l', 'e', 'f', 'o', 'r', 'M', 'e', 't', 'a', 'C', 'h', 'a', 'r', 'a', 'c', 't', 'e', 'r', 's', 'i', 'n', 'R', 'e', 'g', 'u', 'l', 'a', 'r', 'E', 'x', 'p', 'r', 'e', 's', 's', 'i', 'o', 'n']\n"
          ]
        }
      ]
    },
    {
      "cell_type": "code",
      "source": [
        "str=\"Example for Meta Characters in Regular Expression!!!\"\n",
        "res=re.findall(\"\\W\",str)\n",
        "print(res)"
      ],
      "metadata": {
        "colab": {
          "base_uri": "https://localhost:8080/"
        },
        "id": "DWvlb59WZwsF",
        "outputId": "a1f9179d-5e3c-4344-a99f-96e9e1c74405"
      },
      "execution_count": 49,
      "outputs": [
        {
          "output_type": "stream",
          "name": "stdout",
          "text": [
            "[' ', ' ', ' ', ' ', ' ', ' ', '!', '!', '!']\n"
          ]
        }
      ]
    },
    {
      "cell_type": "code",
      "source": [
        "pattern = '^a....s$'\n",
        "test_string = 'apples'\n",
        "result = re.match(pattern, test_string)\n",
        "\n",
        "if result:\n",
        "  print(\"Search successful.\")\n",
        "else:\n",
        "  print(\"Search unsuccessful.\")"
      ],
      "metadata": {
        "colab": {
          "base_uri": "https://localhost:8080/"
        },
        "id": "lU4Vr3A8mu0F",
        "outputId": "63b54143-10b1-4094-d336-a91130f9e9f7"
      },
      "execution_count": null,
      "outputs": [
        {
          "output_type": "stream",
          "name": "stdout",
          "text": [
            "Search successful.\n"
          ]
        }
      ]
    },
    {
      "cell_type": "code",
      "source": [
        "pattern = '^a.*s$'\n",
        "test_string = 'apples'\n",
        "result = re.match(pattern, test_string)\n",
        "\n",
        "if result:\n",
        "  print(\"Search successful.\")\n",
        "else:\n",
        "  print(\"Search unsuccessful.\")"
      ],
      "metadata": {
        "colab": {
          "base_uri": "https://localhost:8080/"
        },
        "id": "QFEEijUdm1gr",
        "outputId": "1a351ef4-f78d-4a4d-f60f-7cd6cb7997d4"
      },
      "execution_count": null,
      "outputs": [
        {
          "output_type": "stream",
          "name": "stdout",
          "text": [
            "Search successful.\n"
          ]
        }
      ]
    },
    {
      "cell_type": "code",
      "source": [
        "import re\n",
        "\n",
        "txt = \"The meadows in Switzerland\"\n",
        "x = re.search(\"^The.*land$\", txt)\n",
        "if x:\n",
        "  print(\"YES! We have a match!\")\n",
        "else:\n",
        "  print(\"No match\")"
      ],
      "metadata": {
        "colab": {
          "base_uri": "https://localhost:8080/"
        },
        "id": "rG3dA1VHjrIV",
        "outputId": "beb1b64e-6e39-496c-90a3-fd4925e320a0"
      },
      "execution_count": null,
      "outputs": [
        {
          "output_type": "stream",
          "name": "stdout",
          "text": [
            "YES! We have a match!\n"
          ]
        }
      ]
    },
    {
      "cell_type": "code",
      "source": [
        "#[a-e] is the same as [abcde].\n",
        "#[1-4] is the same as [1234]."
      ],
      "metadata": {
        "id": "ikyrWNhJeiaa"
      },
      "execution_count": null,
      "outputs": []
    },
    {
      "cell_type": "code",
      "source": [
        "#You can complement (invert) the character set by using caret ^ symbol at the start of a square-bracket.\n",
        "import re\n",
        "text = \"abc123\"\n",
        "# Match any character that is NOT a digit\n",
        "pattern = r\"[^0-9]\"\n",
        "matches = re.findall(pattern, text)\n",
        "print(matches)"
      ],
      "metadata": {
        "id": "eQ6dT6kFeoLr",
        "colab": {
          "base_uri": "https://localhost:8080/"
        },
        "outputId": "63782c7b-8d43-4b8d-f9e4-793950d81296"
      },
      "execution_count": 51,
      "outputs": [
        {
          "output_type": "stream",
          "name": "stdout",
          "text": [
            "['a', 'b', 'c']\n"
          ]
        }
      ]
    },
    {
      "cell_type": "code",
      "source": [
        "re.search(\"..\",\"acde\")"
      ],
      "metadata": {
        "colab": {
          "base_uri": "https://localhost:8080/"
        },
        "id": "12OZc_zyeoUU",
        "outputId": "021cd182-8b75-4a23-e305-e67fa6bc026f"
      },
      "execution_count": null,
      "outputs": [
        {
          "output_type": "execute_result",
          "data": {
            "text/plain": [
              "<re.Match object; span=(0, 2), match='ac'>"
            ]
          },
          "metadata": {},
          "execution_count": 144
        }
      ]
    },
    {
      "cell_type": "code",
      "source": [
        "re.search(\"^a..e$\",\"acde\")"
      ],
      "metadata": {
        "colab": {
          "base_uri": "https://localhost:8080/"
        },
        "id": "TEf4VwMWwUrN",
        "outputId": "1f12fc74-f0bb-4fdc-8fba-63b3ff8db064"
      },
      "execution_count": 50,
      "outputs": [
        {
          "output_type": "execute_result",
          "data": {
            "text/plain": [
              "<re.Match object; span=(0, 4), match='acde'>"
            ]
          },
          "metadata": {},
          "execution_count": 50
        }
      ]
    },
    {
      "cell_type": "code",
      "source": [
        "re.search(\"^b..e$\",\"acde\")"
      ],
      "metadata": {
        "id": "WXDrcAVvwYyn",
        "colab": {
          "base_uri": "https://localhost:8080/",
          "height": 17
        },
        "outputId": "9e28a98d-6a05-4129-fd89-25ecd7caca69"
      },
      "execution_count": null,
      "outputs": [
        {
          "output_type": "display_data",
          "data": {
            "text/plain": [
              "<IPython.core.display.HTML object>"
            ],
            "text/html": [
              "<style> \n",
              "    body {\n",
              "      font-size: 20px;\n",
              "    }\n",
              "  "
            ]
          },
          "metadata": {}
        },
        {
          "output_type": "display_data",
          "data": {
            "text/plain": [
              "<IPython.core.display.HTML object>"
            ],
            "text/html": [
              "<style> \n",
              "    body {\n",
              "      font-size: 24px;\n",
              "    }\n",
              "  "
            ]
          },
          "metadata": {}
        }
      ]
    },
    {
      "cell_type": "code",
      "source": [
        "re.search(\"a$\",\"formula\")"
      ],
      "metadata": {
        "colab": {
          "base_uri": "https://localhost:8080/"
        },
        "id": "qChQkYHFfiUc",
        "outputId": "278ac3e6-68f7-412f-f0b2-97f9bf1f4091"
      },
      "execution_count": null,
      "outputs": [
        {
          "output_type": "execute_result",
          "data": {
            "text/plain": [
              "<re.Match object; span=(6, 7), match='a'>"
            ]
          },
          "metadata": {},
          "execution_count": 147
        }
      ]
    },
    {
      "cell_type": "code",
      "source": [
        "re.search(\"ma*n\",\"maan\")"
      ],
      "metadata": {
        "colab": {
          "base_uri": "https://localhost:8080/"
        },
        "id": "VhwQodJRfqvc",
        "outputId": "c8762874-daa9-4406-881c-33478ae135e4"
      },
      "execution_count": null,
      "outputs": [
        {
          "output_type": "execute_result",
          "data": {
            "text/plain": [
              "<re.Match object; span=(0, 4), match='maan'>"
            ]
          },
          "metadata": {},
          "execution_count": 44
        }
      ]
    },
    {
      "cell_type": "code",
      "source": [
        "re.search(\"m*n\",\"maan\")"
      ],
      "metadata": {
        "colab": {
          "base_uri": "https://localhost:8080/"
        },
        "id": "acY_IZauf0zz",
        "outputId": "3dcf0840-31e0-4672-eedc-18464c778ee8"
      },
      "execution_count": null,
      "outputs": [
        {
          "output_type": "execute_result",
          "data": {
            "text/plain": [
              "<re.Match object; span=(3, 4), match='n'>"
            ]
          },
          "metadata": {},
          "execution_count": 45
        }
      ]
    },
    {
      "cell_type": "code",
      "source": [
        "re.search(\"ma*n\",\"main\")"
      ],
      "metadata": {
        "id": "x2kwInGuf2cK"
      },
      "execution_count": null,
      "outputs": []
    },
    {
      "cell_type": "code",
      "source": [
        "re.search(\"ma*n\",\"mn\")"
      ],
      "metadata": {
        "colab": {
          "base_uri": "https://localhost:8080/"
        },
        "id": "mq-NykVmf7nD",
        "outputId": "281bab14-3086-4d1c-e490-063944f134f0"
      },
      "execution_count": null,
      "outputs": [
        {
          "output_type": "execute_result",
          "data": {
            "text/plain": [
              "<re.Match object; span=(0, 2), match='mn'>"
            ]
          },
          "metadata": {},
          "execution_count": 48
        }
      ]
    },
    {
      "cell_type": "code",
      "source": [
        "re.search(\"ma+n\",\"mn\")"
      ],
      "metadata": {
        "id": "XghKtkPRf_As"
      },
      "execution_count": null,
      "outputs": []
    },
    {
      "cell_type": "code",
      "source": [
        "re.search(\"ma+n\",\"maan\")"
      ],
      "metadata": {
        "colab": {
          "base_uri": "https://localhost:8080/"
        },
        "id": "N7etl57lgB-K",
        "outputId": "2bce5481-efcd-4e15-9c59-d91b3b0071bd"
      },
      "execution_count": null,
      "outputs": [
        {
          "output_type": "execute_result",
          "data": {
            "text/plain": [
              "<re.Match object; span=(0, 4), match='maan'>"
            ]
          },
          "metadata": {},
          "execution_count": 150
        }
      ]
    },
    {
      "cell_type": "code",
      "source": [
        "re.search(\"ma?n\",\"maaan\")"
      ],
      "metadata": {
        "id": "DMI9af13gFf1",
        "colab": {
          "base_uri": "https://localhost:8080/",
          "height": 17
        },
        "outputId": "47164421-b8b6-4008-caf7-2e527f016878"
      },
      "execution_count": null,
      "outputs": [
        {
          "output_type": "display_data",
          "data": {
            "text/plain": [
              "<IPython.core.display.HTML object>"
            ],
            "text/html": [
              "<style> \n",
              "    body {\n",
              "      font-size: 20px;\n",
              "    }\n",
              "  "
            ]
          },
          "metadata": {}
        },
        {
          "output_type": "display_data",
          "data": {
            "text/plain": [
              "<IPython.core.display.HTML object>"
            ],
            "text/html": [
              "<style> \n",
              "    body {\n",
              "      font-size: 24px;\n",
              "    }\n",
              "  "
            ]
          },
          "metadata": {}
        }
      ]
    },
    {
      "cell_type": "code",
      "source": [
        "re.search(\"ma?n\",\"man\")"
      ],
      "metadata": {
        "colab": {
          "base_uri": "https://localhost:8080/"
        },
        "id": "fvl7vDHZgtis",
        "outputId": "5f6d960b-b782-47e3-8b08-348699fbf00e"
      },
      "execution_count": null,
      "outputs": [
        {
          "output_type": "execute_result",
          "data": {
            "text/plain": [
              "<re.Match object; span=(0, 3), match='man'>"
            ]
          },
          "metadata": {},
          "execution_count": 152
        }
      ]
    },
    {
      "cell_type": "code",
      "source": [
        "re.search(\"ma?n\",\"mn\")"
      ],
      "metadata": {
        "colab": {
          "base_uri": "https://localhost:8080/"
        },
        "id": "eoenq6lKgvIF",
        "outputId": "980f2649-d9a0-4a4c-d8e8-5f1d4e57379a"
      },
      "execution_count": null,
      "outputs": [
        {
          "output_type": "execute_result",
          "data": {
            "text/plain": [
              "<re.Match object; span=(0, 2), match='mn'>"
            ]
          },
          "metadata": {},
          "execution_count": 153
        }
      ]
    },
    {
      "cell_type": "markdown",
      "source": [],
      "metadata": {
        "id": "-WvTyrf7kA2F"
      }
    },
    {
      "cell_type": "code",
      "source": [
        "re.search(\"a{2,3}\", \"abc daat\")"
      ],
      "metadata": {
        "colab": {
          "base_uri": "https://localhost:8080/"
        },
        "id": "L0tuyh-8jv0s",
        "outputId": "0e6bd63b-5703-4fa4-c855-931e60925721"
      },
      "execution_count": null,
      "outputs": [
        {
          "output_type": "execute_result",
          "data": {
            "text/plain": [
              "<re.Match object; span=(5, 7), match='aa'>"
            ]
          },
          "metadata": {},
          "execution_count": 56
        }
      ]
    },
    {
      "cell_type": "code",
      "source": [
        "re.search(\"a{2,3}\", \"abc dat\")"
      ],
      "metadata": {
        "id": "GVgv_XcpxaSm"
      },
      "execution_count": null,
      "outputs": []
    },
    {
      "cell_type": "code",
      "source": [
        "re.search(\"a{2,3}\", \"aaabc daaaat\")"
      ],
      "metadata": {
        "colab": {
          "base_uri": "https://localhost:8080/"
        },
        "id": "mdM8w8wykLvT",
        "outputId": "6a9bf3d4-4b41-492b-ef0c-988b56b3c44a"
      },
      "execution_count": null,
      "outputs": [
        {
          "output_type": "execute_result",
          "data": {
            "text/plain": [
              "<re.Match object; span=(0, 3), match='aaa'>"
            ]
          },
          "metadata": {},
          "execution_count": 155
        }
      ]
    },
    {
      "cell_type": "code",
      "source": [
        "re.search(\"a{2,3}\", \"abc dat\")"
      ],
      "metadata": {
        "colab": {
          "base_uri": "https://localhost:8080/",
          "height": 17
        },
        "id": "V8_2PTWeZmVI",
        "outputId": "78966ba7-3921-4128-ccf0-c9e7c2a75348"
      },
      "execution_count": null,
      "outputs": [
        {
          "output_type": "display_data",
          "data": {
            "text/plain": [
              "<IPython.core.display.HTML object>"
            ],
            "text/html": [
              "<style> \n",
              "    body {\n",
              "      font-size: 20px;\n",
              "    }\n",
              "  "
            ]
          },
          "metadata": {}
        },
        {
          "output_type": "display_data",
          "data": {
            "text/plain": [
              "<IPython.core.display.HTML object>"
            ],
            "text/html": [
              "<style> \n",
              "    body {\n",
              "      font-size: 24px;\n",
              "    }\n",
              "  "
            ]
          },
          "metadata": {}
        }
      ]
    },
    {
      "cell_type": "code",
      "source": [
        "re.search(\"[0-9]{2,4}\", \"ab123csde\")"
      ],
      "metadata": {
        "colab": {
          "base_uri": "https://localhost:8080/"
        },
        "id": "1WUJrgMGkdvk",
        "outputId": "aa2829ae-92a8-41fa-9055-74c0ff49417b"
      },
      "execution_count": null,
      "outputs": [
        {
          "output_type": "execute_result",
          "data": {
            "text/plain": [
              "<re.Match object; span=(2, 5), match='123'>"
            ]
          },
          "metadata": {},
          "execution_count": 59
        }
      ]
    },
    {
      "cell_type": "code",
      "source": [
        "re.findall(\"[0-9]{2,4}\", \"ab123csde1234\")"
      ],
      "metadata": {
        "colab": {
          "base_uri": "https://localhost:8080/"
        },
        "id": "w9deAUYUmCK6",
        "outputId": "4f2c877f-753d-4954-dd63-9614ddab2643"
      },
      "execution_count": null,
      "outputs": [
        {
          "output_type": "execute_result",
          "data": {
            "text/plain": [
              "['123', '1234']"
            ]
          },
          "metadata": {},
          "execution_count": 62
        }
      ]
    },
    {
      "cell_type": "code",
      "source": [
        "re.search(\"a|b\", \"ab123csde\")"
      ],
      "metadata": {
        "id": "rhDQ8oI7mOEU",
        "outputId": "ca47da45-8848-4272-9306-fb271e20c0e3",
        "colab": {
          "base_uri": "https://localhost:8080/"
        }
      },
      "execution_count": null,
      "outputs": [
        {
          "output_type": "execute_result",
          "data": {
            "text/plain": [
              "<re.Match object; span=(0, 1), match='a'>"
            ]
          },
          "metadata": {},
          "execution_count": 63
        }
      ]
    },
    {
      "cell_type": "markdown",
      "source": [],
      "metadata": {
        "id": "FVow2omNwQh-"
      }
    },
    {
      "cell_type": "code",
      "source": [
        "re.search(\"Hungr?\", \"Hungry?\")"
      ],
      "metadata": {
        "colab": {
          "base_uri": "https://localhost:8080/"
        },
        "id": "wID7Cf7twP2q",
        "outputId": "13432c6e-3d61-44a1-f03d-03f523d6d5cd"
      },
      "execution_count": null,
      "outputs": [
        {
          "output_type": "execute_result",
          "data": {
            "text/plain": [
              "<re.Match object; span=(0, 5), match='Hungr'>"
            ]
          },
          "metadata": {},
          "execution_count": 21
        }
      ]
    },
    {
      "cell_type": "code",
      "source": [],
      "metadata": {
        "id": "qjov2Ir-w6CK"
      },
      "execution_count": null,
      "outputs": []
    },
    {
      "cell_type": "code",
      "source": [
        "re.search(\"Hungry\\?\", \"Hungry?\")"
      ],
      "metadata": {
        "colab": {
          "base_uri": "https://localhost:8080/"
        },
        "id": "W6rDNirlwWki",
        "outputId": "c0d21e21-cb50-4ade-e2ae-7eca5284c1d8"
      },
      "execution_count": null,
      "outputs": [
        {
          "output_type": "execute_result",
          "data": {
            "text/plain": [
              "<re.Match object; span=(0, 7), match='Hungry?'>"
            ]
          },
          "metadata": {},
          "execution_count": 20
        }
      ]
    },
    {
      "cell_type": "markdown",
      "source": [
        "'''\n",
        "re.fullmatch() in Python’s re module is used when you want the entire string to match your regex pattern — not just part of it.\n",
        "'''"
      ],
      "metadata": {
        "id": "W4bJFLXrdM3S"
      }
    },
    {
      "cell_type": "code",
      "source": [
        "# A list containing strings to test\n",
        "\n",
        "test_strings = [\"hello\", \"abcde\", \"abcdefghij\", \"Hello\", \"abc123\", \"abcde!\", \"abcde\", \"abcdefg\"]\n",
        "\n",
        "# Regex pattern for exactly 5 to 9 lowercase letters\n",
        "pattern = r\"^[a-z]{5,9}$\"\n",
        "\n",
        "for s in test_strings:\n",
        "    if re.fullmatch(pattern, s):\n",
        "        print(f\"'{s}' matches the pattern.\")\n",
        "    else:\n",
        "        print(f\"'{s}' does not match the pattern.\")"
      ],
      "metadata": {
        "colab": {
          "base_uri": "https://localhost:8080/"
        },
        "id": "sg-2BXJ0w6nR",
        "outputId": "91a677d5-6552-4abe-d422-f2298cd0d2d6"
      },
      "execution_count": null,
      "outputs": [
        {
          "output_type": "stream",
          "name": "stdout",
          "text": [
            "'hello' matches the pattern.\n",
            "'abcde' matches the pattern.\n",
            "'abcdefghij' does not match the pattern.\n",
            "'Hello' does not match the pattern.\n",
            "'abc123' does not match the pattern.\n",
            "'abcde!' does not match the pattern.\n",
            "'abcde' matches the pattern.\n",
            "'abcdefg' matches the pattern.\n"
          ]
        }
      ]
    },
    {
      "cell_type": "code",
      "source": [
        "print(re.match(\"..$\",\"ok\"))\n"
      ],
      "metadata": {
        "colab": {
          "base_uri": "https://localhost:8080/"
        },
        "id": "mks7ZR5gxBe5",
        "outputId": "b94f31ee-2b77-41bc-b932-017315363d08"
      },
      "execution_count": 52,
      "outputs": [
        {
          "output_type": "stream",
          "name": "stdout",
          "text": [
            "<re.Match object; span=(0, 2), match='ok'>\n"
          ]
        }
      ]
    },
    {
      "cell_type": "code",
      "source": [
        "print(re.match(\"..$\",\"h ok\"))\n"
      ],
      "metadata": {
        "colab": {
          "base_uri": "https://localhost:8080/",
          "height": 54
        },
        "id": "ciIjj0URa-iM",
        "outputId": "ca33a181-4695-4b52-9b2f-299060e0bead"
      },
      "execution_count": 54,
      "outputs": [
        {
          "output_type": "stream",
          "name": "stdout",
          "text": [
            "None\n"
          ]
        },
        {
          "output_type": "execute_result",
          "data": {
            "text/plain": [
              "'\\n..$ would require the entire string to be exactly 2 characters long (because $ anchors the end).\\nBut \"h ok\" is 4 characters, so it fails.\\n'"
            ],
            "application/vnd.google.colaboratory.intrinsic+json": {
              "type": "string"
            }
          },
          "metadata": {},
          "execution_count": 54
        }
      ]
    },
    {
      "cell_type": "code",
      "source": [
        "print(re.search(\"..$\",\"h ok\"))"
      ],
      "metadata": {
        "colab": {
          "base_uri": "https://localhost:8080/"
        },
        "id": "wvGRBqw7bBae",
        "outputId": "2cc2c755-9b68-46f8-fc32-ec655bf35c6f"
      },
      "execution_count": 55,
      "outputs": [
        {
          "output_type": "stream",
          "name": "stdout",
          "text": [
            "<re.Match object; span=(2, 4), match='ok'>\n"
          ]
        }
      ]
    },
    {
      "cell_type": "code",
      "source": [
        "#Including a ‘$’ at the end will match only strings of length 2\n",
        "print(re.match(\"..$\",\"ii\"))"
      ],
      "metadata": {
        "colab": {
          "base_uri": "https://localhost:8080/"
        },
        "id": "PLV_34llxAN-",
        "outputId": "7e064d86-cb0a-48ad-92f2-2c34e1ebf535"
      },
      "execution_count": null,
      "outputs": [
        {
          "output_type": "stream",
          "name": "stdout",
          "text": [
            "<re.Match object; span=(0, 2), match='ii'>\n"
          ]
        }
      ]
    },
    {
      "cell_type": "code",
      "source": [
        "print(re.match(\"..\",\"f\"))"
      ],
      "metadata": {
        "colab": {
          "base_uri": "https://localhost:8080/"
        },
        "id": "tmLb8vq5yd_J",
        "outputId": "7c33292c-46e2-4dcc-9562-6a229ab6ff10"
      },
      "execution_count": 56,
      "outputs": [
        {
          "output_type": "stream",
          "name": "stdout",
          "text": [
            "None\n"
          ]
        }
      ]
    },
    {
      "cell_type": "code",
      "source": [
        "print(re.match(\"..\",\"f\\n\"))"
      ],
      "metadata": {
        "colab": {
          "base_uri": "https://localhost:8080/"
        },
        "id": "b_V0SN_Zyk-6",
        "outputId": "d0147b34-9719-4884-9b70-05eeaf5e2e01"
      },
      "execution_count": 57,
      "outputs": [
        {
          "output_type": "stream",
          "name": "stdout",
          "text": [
            "None\n"
          ]
        }
      ]
    },
    {
      "cell_type": "code",
      "source": [
        "print(re.match(\"..\",\"f!\"))"
      ],
      "metadata": {
        "colab": {
          "base_uri": "https://localhost:8080/"
        },
        "id": "wjUMt9nmynKR",
        "outputId": "cb361060-de09-4d05-bfda-3389a974f3b1"
      },
      "execution_count": 58,
      "outputs": [
        {
          "output_type": "stream",
          "name": "stdout",
          "text": [
            "<re.Match object; span=(0, 2), match='f!'>\n"
          ]
        }
      ]
    },
    {
      "cell_type": "code",
      "source": [
        "print(re.match(\"..\",\"faa\"))"
      ],
      "metadata": {
        "colab": {
          "base_uri": "https://localhost:8080/"
        },
        "id": "VOgUap6RyqR5",
        "outputId": "da785bcc-b672-48fd-a097-03a592c6d737"
      },
      "execution_count": null,
      "outputs": [
        {
          "output_type": "stream",
          "name": "stdout",
          "text": [
            "<re.Match object; span=(0, 2), match='fa'>\n"
          ]
        }
      ]
    },
    {
      "cell_type": "code",
      "source": [
        "print(re.match(\".end\",\"Bend It Like Beckham\"))\n"
      ],
      "metadata": {
        "colab": {
          "base_uri": "https://localhost:8080/"
        },
        "id": "Y0MQhAbLyx0q",
        "outputId": "fe07dcd2-cc95-4535-b347-829cd29dc0f9"
      },
      "execution_count": null,
      "outputs": [
        {
          "output_type": "stream",
          "name": "stdout",
          "text": [
            "<re.Match object; span=(0, 4), match='Bend'>\n"
          ]
        }
      ]
    },
    {
      "cell_type": "code",
      "source": [
        "print(re.match(\".end\",\"bends\"))"
      ],
      "metadata": {
        "colab": {
          "base_uri": "https://localhost:8080/"
        },
        "id": "_X3u4nb_zNya",
        "outputId": "c2ca2793-2e70-4f79-afb8-30f6e0fcbca0"
      },
      "execution_count": null,
      "outputs": [
        {
          "output_type": "stream",
          "name": "stdout",
          "text": [
            "<re.Match object; span=(0, 4), match='bend'>\n"
          ]
        }
      ]
    },
    {
      "cell_type": "code",
      "source": [
        "# search checks for a match anywhere in the string\n",
        "print(re.search(\"end.$\",\"aends\"))\n"
      ],
      "metadata": {
        "colab": {
          "base_uri": "https://localhost:8080/"
        },
        "id": "0qMaQBmTzZ5r",
        "outputId": "afad11b8-f32a-4e59-8e8d-2ee60e9adb5f"
      },
      "execution_count": null,
      "outputs": [
        {
          "output_type": "stream",
          "name": "stdout",
          "text": [
            "<re.Match object; span=(1, 5), match='ends'>\n"
          ]
        }
      ]
    },
    {
      "cell_type": "code",
      "source": [
        "#match checks for a match only at the beginning of the string\n",
        "print(re.match(\"end.$\",\"aends\"))"
      ],
      "metadata": {
        "colab": {
          "base_uri": "https://localhost:8080/"
        },
        "id": "HIBPCE0M1j7J",
        "outputId": "1e72d0f7-77e6-47cd-ade0-0238affd670a"
      },
      "execution_count": null,
      "outputs": [
        {
          "output_type": "stream",
          "name": "stdout",
          "text": [
            "None\n"
          ]
        }
      ]
    },
    {
      "cell_type": "code",
      "source": [
        "print(re.match(\"end.$\",\"a ends\"))"
      ],
      "metadata": {
        "colab": {
          "base_uri": "https://localhost:8080/"
        },
        "id": "0UuYQNse1zfb",
        "outputId": "7f774cc2-3412-444b-c253-16a278f839cf"
      },
      "execution_count": null,
      "outputs": [
        {
          "output_type": "stream",
          "name": "stdout",
          "text": [
            "None\n"
          ]
        }
      ]
    },
    {
      "cell_type": "code",
      "source": [
        "print(re.match(\"end.$\",\"ends\"))"
      ],
      "metadata": {
        "colab": {
          "base_uri": "https://localhost:8080/"
        },
        "id": "Bmz7BmU9zioK",
        "outputId": "246e5811-2a5e-4128-e240-71d9ed95eb46"
      },
      "execution_count": null,
      "outputs": [
        {
          "output_type": "stream",
          "name": "stdout",
          "text": [
            "<re.Match object; span=(0, 4), match='ends'>\n"
          ]
        }
      ]
    },
    {
      "cell_type": "code",
      "source": [
        "text = \"apple, banana; cherry orange\"\n",
        "# Split on commas or semicolons or spaces\n",
        "result = re.split(\"[, ;]+\", text)\n",
        "print(result)  # Output: ['apple', 'banana', 'cherry', 'orange']"
      ],
      "metadata": {
        "colab": {
          "base_uri": "https://localhost:8080/"
        },
        "id": "sWmzuAqR62Pj",
        "outputId": "71ceb477-ec61-4525-aed9-07df9d089ff0"
      },
      "execution_count": null,
      "outputs": [
        {
          "output_type": "stream",
          "name": "stdout",
          "text": [
            "['apple', 'banana', 'cherry', 'orange']\n"
          ]
        }
      ]
    },
    {
      "cell_type": "code",
      "source": [
        "text = \"one, two, three, four, five\"\n",
        "# Split on commas, but only do it twice\n",
        "result = re.split(\",\", text, maxsplit=2)\n",
        "print(result)  # Output: ['one', ' two', ' three, four, five']"
      ],
      "metadata": {
        "colab": {
          "base_uri": "https://localhost:8080/"
        },
        "id": "Ope_ov746dyx",
        "outputId": "f5098137-348f-40cd-9de6-37049a99e809"
      },
      "execution_count": null,
      "outputs": [
        {
          "output_type": "stream",
          "name": "stdout",
          "text": [
            "['one', ' two', ' three, four, five']\n"
          ]
        }
      ]
    },
    {
      "cell_type": "code",
      "source": [
        "text = \"apple:banana;cherry orange\"\n",
        "# Split and keep the delimiters\n",
        "result = re.split(r\"([:; ]+)\", text)\n",
        "print(result)  # Output: ['apple', ':', 'banana', ';', 'cherry', ' ', 'orange']"
      ],
      "metadata": {
        "colab": {
          "base_uri": "https://localhost:8080/"
        },
        "id": "-bBHetJi7Su6",
        "outputId": "200f2aab-ce9d-4c03-bcbb-4d86cc4f1059"
      },
      "execution_count": null,
      "outputs": [
        {
          "output_type": "stream",
          "name": "stdout",
          "text": [
            "['apple', ':', 'banana', ';', 'cherry', ' ', 'orange']\n"
          ]
        }
      ]
    },
    {
      "cell_type": "code",
      "source": [
        "# Original string with extra spaces\n",
        "text = \"This   is  a   sentence.\"\n",
        "\n",
        "# Replace multiple spaces with a single space\n",
        "result = re.sub('\\s+', ' ', text)\n",
        "\n",
        "print(result)  # Output: This is a sentence."
      ],
      "metadata": {
        "colab": {
          "base_uri": "https://localhost:8080/"
        },
        "id": "WKz9mHM18T9z",
        "outputId": "1602a0a9-c09e-48c3-9ccd-50fefc0dccb7"
      },
      "execution_count": null,
      "outputs": [
        {
          "output_type": "stream",
          "name": "stdout",
          "text": [
            "This is a sentence.\n"
          ]
        }
      ]
    },
    {
      "cell_type": "code",
      "source": [
        "import re\n",
        "\n",
        "# Original string\n",
        "text = \"Python is great. python is fun.\"\n",
        "\n",
        "# Replace 'python' with 'Java', case-insensitively using IGNORECASE flag\n",
        "result = re.sub('python', 'Java', text, flags=re.IGNORECASE)\n",
        "\n",
        "print(result)  # Output: Java is great. Java is fun."
      ],
      "metadata": {
        "colab": {
          "base_uri": "https://localhost:8080/"
        },
        "id": "QOxdK1Sg8g2C",
        "outputId": "b5fc4ddc-b799-4b4b-f7cc-b5fe8fc93def"
      },
      "execution_count": null,
      "outputs": [
        {
          "output_type": "stream",
          "name": "stdout",
          "text": [
            "Java is great. Java is fun.\n"
          ]
        }
      ]
    },
    {
      "cell_type": "code",
      "source": [
        "pattern = \"\\d+\"  # Matches one or more digits\n",
        "text = \"123 apples\"\n",
        "result = re.findall(pattern, text)\n",
        "print(result)  # Output: ['123']\n"
      ],
      "metadata": {
        "colab": {
          "base_uri": "https://localhost:8080/",
          "height": 48
        },
        "id": "Szlp6h2D83Bq",
        "outputId": "80afb790-62bf-42b5-8b7f-9e5cbed8a365"
      },
      "execution_count": null,
      "outputs": [
        {
          "output_type": "display_data",
          "data": {
            "text/plain": [
              "<IPython.core.display.HTML object>"
            ],
            "text/html": [
              "<style> \n",
              "    body {\n",
              "      font-size: 20px;\n",
              "    }\n",
              "  "
            ]
          },
          "metadata": {}
        },
        {
          "output_type": "display_data",
          "data": {
            "text/plain": [
              "<IPython.core.display.HTML object>"
            ],
            "text/html": [
              "<style> \n",
              "    body {\n",
              "      font-size: 24px;\n",
              "    }\n",
              "  "
            ]
          },
          "metadata": {}
        },
        {
          "output_type": "stream",
          "name": "stdout",
          "text": [
            "['123']\n"
          ]
        }
      ]
    },
    {
      "cell_type": "code",
      "source": [
        "pattern = \"\\D+\"\n",
        "text = \"123 apples\"\n",
        "result = re.findall(pattern, text)\n",
        "print(result)"
      ],
      "metadata": {
        "colab": {
          "base_uri": "https://localhost:8080/"
        },
        "id": "0-kDAswBdYP4",
        "outputId": "567ea215-5e60-49a1-8d9b-f092e805bde1"
      },
      "execution_count": 59,
      "outputs": [
        {
          "output_type": "stream",
          "name": "stdout",
          "text": [
            "[' apples']\n"
          ]
        }
      ]
    },
    {
      "cell_type": "code",
      "source": [
        "s='aaa@xxx.com'\n",
        "m = re.match(r'[a-z]+@[a-z]+\\.[a-z]+', s)\n",
        "print(m)\n",
        "# <re.Match object; span=(0, 11), match='aaa@xxx.com'>\n",
        "\n",
        "print(type(m))\n",
        "\n",
        "print(m.start()) #start() returns the beginning of the matched substring\n",
        "# 0\n",
        "print(m.end()) #end() returns the end\n",
        "# 11\n",
        "print(m.span()) #span() returns a tuple containing the beginning and end.\n",
        "# (0, 11)\n",
        "print(m.string) #string returns string. Note that string is an attribute  not a method so it does not have brackets i.e. ()"
      ],
      "metadata": {
        "colab": {
          "base_uri": "https://localhost:8080/"
        },
        "id": "u_yO9SymABUS",
        "outputId": "298a9b3f-b321-468e-e8bd-44ec8a3855e9"
      },
      "execution_count": 60,
      "outputs": [
        {
          "output_type": "stream",
          "name": "stdout",
          "text": [
            "<re.Match object; span=(0, 11), match='aaa@xxx.com'>\n",
            "<class 're.Match'>\n",
            "0\n",
            "11\n",
            "(0, 11)\n",
            "aaa@xxx.com\n"
          ]
        }
      ]
    },
    {
      "cell_type": "code",
      "source": [
        "import re\n",
        "pattern = \"[1-9][0-9]{9}\"\n",
        "print(re.search(pattern, \"abc9840623676xyz\"))\n",
        "#returns match object\n",
        "pattern = \"^[1-9][0-9]{9}$\"\n",
        "print(re.search(pattern, \"abc9840623676xyz\"))\n",
        "#returs none\n",
        "pattern = \"^[1-9][0-9]{9}$\"\n",
        "print(re.search(pattern, \"9840623676\"))\n",
        "#returns match object\n"
      ],
      "metadata": {
        "colab": {
          "base_uri": "https://localhost:8080/"
        },
        "id": "8ogWmjrlGSNp",
        "outputId": "e7f95fc1-cc48-45bf-8c20-e7ca27122f89"
      },
      "execution_count": null,
      "outputs": [
        {
          "output_type": "stream",
          "name": "stdout",
          "text": [
            "<re.Match object; span=(3, 13), match='9840623676'>\n",
            "None\n",
            "<re.Match object; span=(0, 10), match='9840623676'>\n"
          ]
        }
      ]
    },
    {
      "cell_type": "code",
      "source": [
        "import re\n",
        "pattern=\"^[0-9]*|0\"\n",
        "print(re.findall(pattern,\"0012300\"))\n"
      ],
      "metadata": {
        "colab": {
          "base_uri": "https://localhost:8080/",
          "height": 48
        },
        "id": "y3bmPeg2IkXi",
        "outputId": "78276382-8312-4fca-87ba-1967c8a5f519"
      },
      "execution_count": null,
      "outputs": [
        {
          "output_type": "display_data",
          "data": {
            "text/plain": [
              "<IPython.core.display.HTML object>"
            ],
            "text/html": [
              "<style> \n",
              "    body {\n",
              "      font-size: 20px;\n",
              "    }\n",
              "  "
            ]
          },
          "metadata": {}
        },
        {
          "output_type": "display_data",
          "data": {
            "text/plain": [
              "<IPython.core.display.HTML object>"
            ],
            "text/html": [
              "<style> \n",
              "    body {\n",
              "      font-size: 24px;\n",
              "    }\n",
              "  "
            ]
          },
          "metadata": {}
        },
        {
          "output_type": "stream",
          "name": "stdout",
          "text": [
            "['0012300']\n"
          ]
        }
      ]
    },
    {
      "cell_type": "code",
      "source": [
        "import re\n",
        "pattern=\"^[1-9][0-9]*|0$\"\n",
        "print(re.findall(pattern,\"01\"))\n"
      ],
      "metadata": {
        "colab": {
          "base_uri": "https://localhost:8080/",
          "height": 48
        },
        "id": "q1geBKeURumg",
        "outputId": "66d62940-b308-4108-c4ff-8a4285622de8"
      },
      "execution_count": null,
      "outputs": [
        {
          "output_type": "display_data",
          "data": {
            "text/plain": [
              "<IPython.core.display.HTML object>"
            ],
            "text/html": [
              "<style> \n",
              "    body {\n",
              "      font-size: 20px;\n",
              "    }\n",
              "  "
            ]
          },
          "metadata": {}
        },
        {
          "output_type": "display_data",
          "data": {
            "text/plain": [
              "<IPython.core.display.HTML object>"
            ],
            "text/html": [
              "<style> \n",
              "    body {\n",
              "      font-size: 24px;\n",
              "    }\n",
              "  "
            ]
          },
          "metadata": {}
        },
        {
          "output_type": "stream",
          "name": "stdout",
          "text": [
            "[]\n"
          ]
        }
      ]
    },
    {
      "cell_type": "markdown",
      "source": [],
      "metadata": {
        "id": "GeLm7sOY21jW"
      }
    },
    {
      "cell_type": "code",
      "source": [
        "'''\n",
        "A backreference lets you match that same text again later in the pattern.\n",
        "\\1 means: “Match the exact same text that group 1 matched.”\n",
        "Group numbers start from 1 in the order they appear from left to right.\n",
        "\n",
        "In a raw string (r\"...\"), \\1 stays as \\1 for regex to interpret as a backreference.\n",
        "\n",
        "In a normal string (\"...\"), you must write \\\\1 to get a single backslash into the regex.\n",
        "'''"
      ],
      "metadata": {
        "id": "6qDpQvW985Fy"
      },
      "execution_count": null,
      "outputs": []
    },
    {
      "cell_type": "markdown",
      "source": [],
      "metadata": {
        "id": "A0M59CqY2xxv"
      }
    },
    {
      "cell_type": "code",
      "source": [
        "#Identify 2 Consecutive identical Letters\n",
        "text = \"saaaaabbcc\"\n",
        "result = re.search(r'(.)\\1', text) #with raw string\n",
        "print(result)"
      ],
      "metadata": {
        "colab": {
          "base_uri": "https://localhost:8080/"
        },
        "id": "l1cJy0Ae1y46",
        "outputId": "3c25e92c-706f-40b6-966c-024acaf19a4c"
      },
      "execution_count": 66,
      "outputs": [
        {
          "output_type": "stream",
          "name": "stdout",
          "text": [
            "<re.Match object; span=(1, 3), match='aa'>\n"
          ]
        }
      ]
    },
    {
      "cell_type": "code",
      "source": [
        "#Identify 2 Consecutive identical Letters\n",
        "text = \"saaaaabbcc\"\n",
        "result = re.search('(.)\\\\1', text) #without raw string\n",
        "print(result)"
      ],
      "metadata": {
        "colab": {
          "base_uri": "https://localhost:8080/"
        },
        "id": "jZ59Pyqp2toK",
        "outputId": "08f6b660-bbc8-463e-dac2-7dee6525688e"
      },
      "execution_count": 68,
      "outputs": [
        {
          "output_type": "stream",
          "name": "stdout",
          "text": [
            "<re.Match object; span=(1, 3), match='aa'>\n"
          ]
        }
      ]
    },
    {
      "cell_type": "code",
      "source": [
        "#Identify 3 Consecutive identical Letters\n",
        "text = \"sbbccaaaaa\"\n",
        "result = re.search(r'(.)\\1\\1', text)\n",
        "print(result)\n"
      ],
      "metadata": {
        "colab": {
          "base_uri": "https://localhost:8080/"
        },
        "id": "dkKwLVev78Cc",
        "outputId": "a0d40e0a-ce8e-43ca-f35e-ffd86fbdfca5"
      },
      "execution_count": 72,
      "outputs": [
        {
          "output_type": "stream",
          "name": "stdout",
          "text": [
            "<re.Match object; span=(5, 8), match='aaa'>\n"
          ]
        }
      ]
    },
    {
      "cell_type": "code",
      "source": [
        "#positive lookahead\n",
        "import re\n",
        "text=\"I have a pile of 30, 40, 50 coins\"\n",
        "result=re.findall(r'\\d+(?=,)',text)\n",
        "print(result)"
      ],
      "metadata": {
        "colab": {
          "base_uri": "https://localhost:8080/"
        },
        "id": "4DMrFXhJAIS8",
        "outputId": "f760a377-7cfe-4090-a9e8-a5241ae63384"
      },
      "execution_count": 75,
      "outputs": [
        {
          "output_type": "stream",
          "name": "stdout",
          "text": [
            "['30', '40']\n"
          ]
        }
      ]
    },
    {
      "cell_type": "code",
      "source": [
        "import re\n",
        "pattern=\"^[1-9][0-9]*|0$\"\n",
        "print(re.findall(pattern,\"10\"))"
      ],
      "metadata": {
        "colab": {
          "base_uri": "https://localhost:8080/",
          "height": 48
        },
        "id": "n1rUi1z5S4Mn",
        "outputId": "f272fd0b-be68-45a6-c5da-f28f447ddf4e"
      },
      "execution_count": null,
      "outputs": [
        {
          "output_type": "display_data",
          "data": {
            "text/plain": [
              "<IPython.core.display.HTML object>"
            ],
            "text/html": [
              "<style> \n",
              "    body {\n",
              "      font-size: 20px;\n",
              "    }\n",
              "  "
            ]
          },
          "metadata": {}
        },
        {
          "output_type": "display_data",
          "data": {
            "text/plain": [
              "<IPython.core.display.HTML object>"
            ],
            "text/html": [
              "<style> \n",
              "    body {\n",
              "      font-size: 24px;\n",
              "    }\n",
              "  "
            ]
          },
          "metadata": {}
        },
        {
          "output_type": "stream",
          "name": "stdout",
          "text": [
            "['10']\n"
          ]
        }
      ]
    },
    {
      "cell_type": "code",
      "source": [
        "import re\n",
        "text = \"how How Help humble\"\n",
        "result = re.findall(r'\\bh\\w*', text, re.IGNORECASE)\n",
        "print(result)"
      ],
      "metadata": {
        "colab": {
          "base_uri": "https://localhost:8080/"
        },
        "id": "z2TYpKK0A0o9",
        "outputId": "03e150d6-95ae-42fc-b170-4ed9c5dc4ccf"
      },
      "execution_count": 78,
      "outputs": [
        {
          "output_type": "stream",
          "name": "stdout",
          "text": [
            "['how', 'How', 'Help', 'humble']\n"
          ]
        }
      ]
    },
    {
      "cell_type": "code",
      "source": [
        "import re\n",
        "\n",
        "text = \"sister where ere error father\"\n",
        "\n",
        "# \\bcat = match words ending with \"er\"\n",
        "print(re.findall(r'er\\b', text))\n"
      ],
      "metadata": {
        "colab": {
          "base_uri": "https://localhost:8080/"
        },
        "id": "_dNvqz60ClVp",
        "outputId": "fbc5309a-757c-4737-97af-a11147f59e22"
      },
      "execution_count": 90,
      "outputs": [
        {
          "output_type": "stream",
          "name": "stdout",
          "text": [
            "['er', 'er']\n"
          ]
        }
      ]
    },
    {
      "cell_type": "code",
      "source": [
        "import re\n",
        "\n",
        "text = \"cat scatter cater\"\n",
        "\n",
        "# \\bcat = match words starting with \"cat\"\n",
        "print(re.findall(r'\\bcat', text))\n",
        "\n"
      ],
      "metadata": {
        "colab": {
          "base_uri": "https://localhost:8080/"
        },
        "id": "CK0rt4QHCWBe",
        "outputId": "dcc4e4bc-492d-496b-f7b1-246d7bddf5fd"
      },
      "execution_count": 88,
      "outputs": [
        {
          "output_type": "stream",
          "name": "stdout",
          "text": [
            "['cat', 'cat']\n"
          ]
        }
      ]
    },
    {
      "cell_type": "code",
      "source": [
        "import re\n",
        "\n",
        "text = \"123\\n\"  # Note: newline at the end\n",
        "\n",
        "# Using fullmatch\n",
        "print(\"fullmatch:\", re.fullmatch(r\"\\d+\", text))\n",
        "\n",
        "# Using ^...$ with match\n",
        "print(\"^...$ match:\", re.match(r\"^\\d+$\", text))\n",
        "'''\n",
        "re.fullmatch(r\"\\d+\", text) → Fails because the newline at the end is part of the string, so \\d+ doesn’t cover the whole string.\n",
        "\n",
        "re.match(r\"^\\d+$\", text) → Passes because in regex, $ matches the end of the string OR right before a newline. So \"123\\n\" still matches.\n",
        "'''"
      ],
      "metadata": {
        "colab": {
          "base_uri": "https://localhost:8080/"
        },
        "id": "jzw9wCWkRca4",
        "outputId": "8a4ccbe0-0177-4edc-c57f-f42f35784e34"
      },
      "execution_count": 91,
      "outputs": [
        {
          "output_type": "stream",
          "name": "stdout",
          "text": [
            "fullmatch: None\n",
            "^...$ match: <re.Match object; span=(0, 3), match='123'>\n"
          ]
        }
      ]
    },
    {
      "cell_type": "code",
      "source": [],
      "metadata": {
        "id": "x_wtTTqlSUhn"
      },
      "execution_count": 93,
      "outputs": []
    },
    {
      "cell_type": "code",
      "source": [],
      "metadata": {
        "id": "uQKTbXhESBPw"
      },
      "execution_count": null,
      "outputs": []
    }
  ]
}